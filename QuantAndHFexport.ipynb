{
 "cells": [
  {
   "cell_type": "code",
   "execution_count": 2,
   "id": "671dd8f4-6b45-4ed1-bd4f-4c243d9769b5",
   "metadata": {},
   "outputs": [],
   "source": [
    "import torch\n",
    "import safetensors.torch as st\n",
    "import os\n",
    "import json\n",
    "from export import model_export, load_checkpoint, hf_export\n",
    "from model import Transformer, ModelArgs"
   ]
  },
  {
   "cell_type": "code",
   "execution_count": 4,
   "id": "f7b25e75-c49b-48a2-bf2a-7455ef52d1c7",
   "metadata": {},
   "outputs": [
    {
     "name": "stderr",
     "output_type": "stream",
     "text": [
      "/workspace/home/jupyter/llama2.c/export.py:359: FutureWarning: You are using `torch.load` with `weights_only=False` (the current default value), which uses the default pickle module implicitly. It is possible to construct malicious pickle data which will execute arbitrary code during unpickling (See https://github.com/pytorch/pytorch/blob/main/SECURITY.md#untrusted-models for more details). In a future release, the default value for `weights_only` will be flipped to `True`. This limits the functions that could be executed during unpickling. Arbitrary objects will no longer be allowed to be loaded via this mode unless they are explicitly allowlisted by the user via `torch.serialization.add_safe_globals`. We recommend you start setting `weights_only=True` for any use case where you don't have full control of the loaded file. Please open an issue on GitHub for any issues related to this experimental feature.\n",
      "  checkpoint_dict = torch.load(checkpoint, map_location='cpu')\n"
     ]
    }
   ],
   "source": [
    "out_dir = 'out'\n",
    "checkpoint_file = 'ckpt.pt'\n",
    "export_file='hf.bin'\n",
    "device = \"cuda\" \n",
    "# Load the checkpoint\n",
    "ckpt_path = os.path.join(out_dir, checkpoint_file)\n",
    "export_path=os.path.join(out_dir, export_file)\n",
    "model=load_checkpoint(ckpt_path)\n",
    "hf_export(model, out_dir, group_size=64, dtype=torch.bfloat16)\n"
   ]
  },
  {
   "cell_type": "code",
   "execution_count": null,
   "id": "392dd242-8f16-45f5-a696-4ed21222ce3c",
   "metadata": {},
   "outputs": [],
   "source": []
  }
 ],
 "metadata": {
  "kernelspec": {
   "display_name": "Python 3 (ipykernel)",
   "language": "python",
   "name": "python3"
  },
  "language_info": {
   "codemirror_mode": {
    "name": "ipython",
    "version": 3
   },
   "file_extension": ".py",
   "mimetype": "text/x-python",
   "name": "python",
   "nbconvert_exporter": "python",
   "pygments_lexer": "ipython3",
   "version": "3.11.9"
  }
 },
 "nbformat": 4,
 "nbformat_minor": 5
}
