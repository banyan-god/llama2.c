{
 "cells": [
  {
   "cell_type": "code",
   "execution_count": 4,
   "id": "436a6271-3227-4e82-b67e-138aa2986637",
   "metadata": {},
   "outputs": [
    {
     "ename": "TypeError",
     "evalue": "can only concatenate list (not \"BatchEncoding\") to list",
     "output_type": "error",
     "traceback": [
      "\u001b[0;31m---------------------------------------------------------------------------\u001b[0m",
      "\u001b[0;31mTypeError\u001b[0m                                 Traceback (most recent call last)",
      "Cell \u001b[0;32mIn[4], line 12\u001b[0m\n\u001b[1;32m      9\u001b[0m \u001b[38;5;66;03m# Tokenize the text with the default setting (add_special_tokens=True by default)\u001b[39;00m\n\u001b[1;32m     10\u001b[0m encoded_with_special_tokens \u001b[38;5;241m=\u001b[39m tokenizer(text,add_special_tokens\u001b[38;5;241m=\u001b[39m\u001b[38;5;28;01mTrue\u001b[39;00m, return_tensors\u001b[38;5;241m=\u001b[39m\u001b[38;5;124m\"\u001b[39m\u001b[38;5;124mpt\u001b[39m\u001b[38;5;124m\"\u001b[39m)\n\u001b[0;32m---> 12\u001b[0m encoded_with_special_tokens\u001b[38;5;241m=\u001b[39m[tokenizer\u001b[38;5;241m.\u001b[39mbos_token_id] \u001b[38;5;241m+\u001b[39m encoded_with_special_tokens \u001b[38;5;241m+\u001b[39m [tokenizer\u001b[38;5;241m.\u001b[39meos_token_id]\n\u001b[1;32m     14\u001b[0m \u001b[38;5;66;03m# Tokenize the text without special tokens\u001b[39;00m\n\u001b[1;32m     15\u001b[0m encoded_without_special_tokens \u001b[38;5;241m=\u001b[39m tokenizer(text, add_special_tokens\u001b[38;5;241m=\u001b[39m\u001b[38;5;28;01mFalse\u001b[39;00m, return_tensors\u001b[38;5;241m=\u001b[39m\u001b[38;5;124m\"\u001b[39m\u001b[38;5;124mpt\u001b[39m\u001b[38;5;124m\"\u001b[39m)\n",
      "\u001b[0;31mTypeError\u001b[0m: can only concatenate list (not \"BatchEncoding\") to list"
     ]
    }
   ],
   "source": [
    "from transformers import AutoTokenizer\n",
    "\n",
    "# Load a tokenizer (you can use any tokenizer that supports BOS and EOS tokens)\n",
    "tokenizer = AutoTokenizer.from_pretrained(\"KoboldAI/llama2-tokenizer\")\n",
    "\n",
    "# Example sentence to tokenize\n",
    "text = \"This\"\n",
    "\n",
    "# Tokenize the text with the default setting (add_special_tokens=True by default)\n",
    "encoded_with_special_tokens = tokenizer(text,add_special_tokens=True, return_tensors=\"pt\")\n",
    "\n",
    "encoded_with_special_tokens=[tokenizer.bos_token_id] + encoded_with_special_tokens + [tokenizer.eos_token_id]\n",
    "\n",
    "# Tokenize the text without special tokens\n",
    "encoded_without_special_tokens = tokenizer(text, add_special_tokens=False, return_tensors=\"pt\")\n",
    "\n",
    "# Display the input IDs for both cases\n",
    "print(\"With special tokens:\", encoded_with_special_tokens['input_ids'])\n",
    "print(\"Without special tokens:\", encoded_without_special_tokens['input_ids'])\n",
    "\n",
    "# Check if BOS and EOS tokens are added by default\n",
    "if tokenizer.bos_token_id is not None and tokenizer.eos_token_id is not None:\n",
    "    print(\"BOS token ID:\", tokenizer.bos_token_id)\n",
    "    print(\"EOS token ID:\", tokenizer.eos_token_id)\n",
    "\n",
    "    # Check if the BOS and EOS tokens are in the encoded_with_special_tokens output\n",
    "    with_special = encoded_with_special_tokens['input_ids'][0]\n",
    "    assert with_special[0].item() == tokenizer.bos_token_id, \"BOS token missing!\"\n",
    "    assert with_special[-1].item() == tokenizer.eos_token_id, \"EOS token missing!\"\n",
    "    print(\"Test passed: BOS and EOS tokens are added automatically!\")\n",
    "else:\n",
    "    print(\"Test passed: No BOS or EOS tokens defined for this tokenizer.\")\n"
   ]
  },
  {
   "cell_type": "code",
   "execution_count": null,
   "id": "b9a98a30-4300-43c1-8a92-2127409c9a9f",
   "metadata": {},
   "outputs": [],
   "source": []
  }
 ],
 "metadata": {
  "kernelspec": {
   "display_name": "Python 3 (ipykernel)",
   "language": "python",
   "name": "python3"
  },
  "language_info": {
   "codemirror_mode": {
    "name": "ipython",
    "version": 3
   },
   "file_extension": ".py",
   "mimetype": "text/x-python",
   "name": "python",
   "nbconvert_exporter": "python",
   "pygments_lexer": "ipython3",
   "version": "3.11.9"
  }
 },
 "nbformat": 4,
 "nbformat_minor": 5
}
